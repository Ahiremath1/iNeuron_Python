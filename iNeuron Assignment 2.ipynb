{
 "cells": [
  {
   "cell_type": "markdown",
   "metadata": {},
   "source": [
    "# Task1:\n",
    "## 1.1 Creating myreduce() function"
   ]
  },
  {
   "cell_type": "code",
   "execution_count": 29,
   "metadata": {},
   "outputs": [
    {
     "data": {
      "text/plain": [
       "1"
      ]
     },
     "execution_count": 29,
     "metadata": {},
     "output_type": "execute_result"
    }
   ],
   "source": [
    "def myred (fun, inp):\n",
    "    out = inp[0]\n",
    "    for i in inp[1:]:\n",
    "        out = fun(out, i)\n",
    "        \n",
    "    return out\n",
    "\n",
    "def mt (x,y):\n",
    "    return x%y\n",
    "\n",
    "myred(mt, [1,2,3,4])"
   ]
  },
  {
   "cell_type": "markdown",
   "metadata": {},
   "source": [
    "## 1.2 create myfilter() function"
   ]
  },
  {
   "cell_type": "code",
   "execution_count": 30,
   "metadata": {},
   "outputs": [],
   "source": [
    "def my_filter(funct, ip):\n",
    "    if funct is None:\n",
    "        return [j for j in ip if j]\n",
    "    else:\n",
    "        return[j for j in ip if funct(j)]"
   ]
  },
  {
   "cell_type": "code",
   "execution_count": 39,
   "metadata": {},
   "outputs": [
    {
     "data": {
      "text/plain": [
       "[3, 5]"
      ]
     },
     "execution_count": 39,
     "metadata": {},
     "output_type": "execute_result"
    }
   ],
   "source": [
    "my_filter(None,[2,3,4,5])\n",
    "\n",
    "def odd(x):\n",
    "    if x%2 !=0:\n",
    "        return True\n",
    "my_filter(odd, (2,3,4,5))"
   ]
  },
  {
   "cell_type": "markdown",
   "metadata": {},
   "source": [
    "## 1.3 List comprehensions:"
   ]
  },
  {
   "cell_type": "code",
   "execution_count": 44,
   "metadata": {},
   "outputs": [
    {
     "name": "stdout",
     "output_type": "stream",
     "text": [
      "['A', 'C', 'A', 'D', 'G', 'I', 'L', 'D']\n"
     ]
    }
   ],
   "source": [
    "#1. List comprehension to return ['A','C', 'A', 'D', 'G', 'I', 'L', 'D']\n",
    "input = 'ACADGILD'\n",
    "print(list(i for i in input))"
   ]
  },
  {
   "cell_type": "code",
   "execution_count": 47,
   "metadata": {},
   "outputs": [
    {
     "name": "stdout",
     "output_type": "stream",
     "text": [
      "['x', 'xx', 'xxx', 'xxxx', 'y', 'yy', 'yyy', 'yyyy', 'z', 'zz', 'zzz', 'zzzz']\n"
     ]
    }
   ],
   "source": [
    "#2. print['x', 'xx', 'xxx', 'xxxx', 'y', 'yy', 'yyy', 'yyyy', 'z', 'zz', 'zzz', 'zzzz']\n",
    "lst= ['x','y','z']\n",
    "print(list(j*k for j in lst for k in range(1,5)))"
   ]
  },
  {
   "cell_type": "code",
   "execution_count": 48,
   "metadata": {},
   "outputs": [
    {
     "name": "stdout",
     "output_type": "stream",
     "text": [
      "['x', 'y', 'z', 'xx', 'yy', 'zz', 'xxx', 'yyy', 'zzz', 'xxxx', 'yyyy', 'zzzz']\n"
     ]
    }
   ],
   "source": [
    "#3. print ['x', 'y', 'z', 'xx', 'yy', 'zz', 'xx', 'yy', 'zz', 'xxxx', 'yyyy', 'zzzz'] using list comprehension\n",
    "print(list(k*j for k in range(1,5) for j in lst))"
   ]
  },
  {
   "cell_type": "code",
   "execution_count": 50,
   "metadata": {},
   "outputs": [
    {
     "name": "stdout",
     "output_type": "stream",
     "text": [
      "[[2], [3], [4], [3], [4], [5], [4], [5], [6]]\n"
     ]
    }
   ],
   "source": [
    "#4. print [[2], [3], [4], [3], [4], [5], [4], [5], [6]] using list comprehension\n",
    "lst2= [2,3,4]\n",
    "print(list([num+f] for num in lst2 for f in range(0,3)))"
   ]
  },
  {
   "cell_type": "code",
   "execution_count": 52,
   "metadata": {},
   "outputs": [
    {
     "name": "stdout",
     "output_type": "stream",
     "text": [
      "[[2, 3, 4, 5], [3, 4, 5, 6], [4, 5, 6, 7], [5, 6, 7, 8]]\n"
     ]
    }
   ],
   "source": [
    "#5. print [[2, 3, 4, 5], [3, 4, 5, 6], [4, 5, 6, 7], [5, 6, 7, 8]] using list comprehension\n",
    "lst3 = [2,3,4,5]\n",
    "print(list([num+g for g in range(0,4)]for num in lst3))"
   ]
  },
  {
   "cell_type": "code",
   "execution_count": 54,
   "metadata": {},
   "outputs": [
    {
     "name": "stdout",
     "output_type": "stream",
     "text": [
      "[(1, 1), (2, 1), (3, 1), (1, 2), (2, 2), (3, 2), (1, 3), (2, 3), (3, 3)]\n"
     ]
    }
   ],
   "source": [
    "#6. print [(1, 1), (2, 1), (3, 1), (1, 2), (2, 2), (3, 2), (1, 3), (2, 3), (3, 3)] using list comprehension\n",
    "lst4 = [1,2,3]\n",
    "print(list((item, i) for i in range(1,4) for item in lst4))"
   ]
  },
  {
   "cell_type": "markdown",
   "metadata": {},
   "source": [
    "## 1.4 Implement a function longestword() that takes list of words and returns longest one"
   ]
  },
  {
   "cell_type": "code",
   "execution_count": 10,
   "metadata": {},
   "outputs": [
    {
     "name": "stdout",
     "output_type": "stream",
     "text": [
      "Enter a word: Begin\n",
      "Enter a word: beginnin\n",
      "Enter a word: middle\n",
      "Enter a word: almost\n",
      "Enter a word: nowhere\n",
      "Enter a word: somwhere\n",
      "Enter a word: end\n",
      "longest word:  beginnin and length is  8\n"
     ]
    }
   ],
   "source": [
    "def longestword(w):\n",
    "    longest = \"\"\n",
    "    wrd_len =0\n",
    "    for wrds in w:\n",
    "        if wrd_len<len(wrds):\n",
    "            wrd_len = len(wrds)\n",
    "            longest = wrds\n",
    "    print('longest word: ', longest, 'and length is ', wrd_len)\n",
    "\n",
    "l = []\n",
    "r = \"\"\n",
    "while r != 'end':\n",
    "    r = input(\"Enter a word: \")\n",
    "    if r != 'end':\n",
    "        l.append(r)\n",
    "\n",
    "longestword(l)"
   ]
  },
  {
   "cell_type": "markdown",
   "metadata": {},
   "source": [
    "# Task 2:\n"
   ]
  },
  {
   "cell_type": "markdown",
   "metadata": {},
   "source": [
    "## 1.2: Write a function filter_long_words() that takes list of words and an integer n and returns list of words that are longer than n"
   ]
  },
  {
   "cell_type": "code",
   "execution_count": 13,
   "metadata": {},
   "outputs": [
    {
     "data": {
      "text/plain": [
       "['beginning', 'raining1', 'lastwords', 'paradox']"
      ]
     },
     "execution_count": 13,
     "metadata": {},
     "output_type": "execute_result"
    }
   ],
   "source": [
    "def filter_long_word(words, l):\n",
    "    return list(filter(lambda x: len(x)>l, words))\n",
    "\n",
    "filter_long_word(['asdf', 'beginning', 'storm', 'raining1', 'lastwords', 'paradox', 'end'], 5)"
   ]
  },
  {
   "cell_type": "markdown",
   "metadata": {},
   "source": [
    "## 2.1 Write a Python program using function concept that maps list of words into a list of integers representing the lengths of the corresponding words"
   ]
  },
  {
   "cell_type": "code",
   "execution_count": 16,
   "metadata": {},
   "outputs": [
    {
     "data": {
      "text/plain": [
       "[5, 6, 6, 7]"
      ]
     },
     "execution_count": 16,
     "metadata": {},
     "output_type": "execute_result"
    }
   ],
   "source": [
    "def map_len(wrds):\n",
    "    return list(map(lambda y: len(y), wrds))\n",
    "\n",
    "wdds = ['words', 'length','inputs','outputs']\n",
    "map_len(wdds)"
   ]
  },
  {
   "cell_type": "markdown",
   "metadata": {},
   "source": [
    "## 2.2 Write a Python function which takes a character (i.e. a string of length 1) and returns True if it is a vowel, False otherwise"
   ]
  },
  {
   "cell_type": "code",
   "execution_count": 32,
   "metadata": {},
   "outputs": [
    {
     "data": {
      "text/plain": [
       "True"
      ]
     },
     "execution_count": 32,
     "metadata": {},
     "output_type": "execute_result"
    }
   ],
   "source": [
    "def vowel_chk (char):\n",
    "    if len(char)==1 and char in ['a','e','i','o','u','A', 'E','I','O','U']:\n",
    "        return True\n",
    "    else:\n",
    "        return False\n",
    "\n",
    "vowel_chk('i')"
   ]
  },
  {
   "cell_type": "markdown",
   "metadata": {},
   "source": [
    "## 2.1 Write a Python Program(with class concepts) to find the area of the triangle using the below formula. area = (s(s-a)(s-b)*(s-c)) ** 0.5"
   ]
  },
  {
   "cell_type": "code",
   "execution_count": 34,
   "metadata": {},
   "outputs": [
    {
     "name": "stdout",
     "output_type": "stream",
     "text": [
      "7.192318384915954\n"
     ]
    }
   ],
   "source": [
    "import math\n",
    "\n",
    "class Triangle:\n",
    "    a=0\n",
    "    b=0\n",
    "    c=0\n",
    "    s=0\n",
    "    \n",
    "    def __init__(self, a, b, c):\n",
    "        self.a = a\n",
    "        self.b = b\n",
    "        self.c = c\n",
    "        self.s = (a+b+c)/2\n",
    "        \n",
    "    def area(self):\n",
    "        return math.sqrt(self.s*(self.s-self.a)*(self.s-self.b)*(self.s-self.c))\n",
    "    \n",
    "triangle = Triangle(3.2,4.5,5.4)\n",
    "print(triangle.area())"
   ]
  },
  {
   "cell_type": "code",
   "execution_count": null,
   "metadata": {},
   "outputs": [],
   "source": []
  }
 ],
 "metadata": {
  "kernelspec": {
   "display_name": "Python 3",
   "language": "python",
   "name": "python3"
  },
  "language_info": {
   "codemirror_mode": {
    "name": "ipython",
    "version": 3
   },
   "file_extension": ".py",
   "mimetype": "text/x-python",
   "name": "python",
   "nbconvert_exporter": "python",
   "pygments_lexer": "ipython3",
   "version": "3.7.1"
  }
 },
 "nbformat": 4,
 "nbformat_minor": 2
}
